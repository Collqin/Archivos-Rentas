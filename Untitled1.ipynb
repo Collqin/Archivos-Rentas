{
  "nbformat": 4,
  "nbformat_minor": 0,
  "metadata": {
    "colab": {
      "name": "Untitled0.ipynb",
      "provenance": [],
      "authorship_tag": "ABX9TyO2xzTerfGlqCkdP6lG79WL",
      "include_colab_link": true
    },
    "kernelspec": {
      "name": "python3",
      "display_name": "Python 3"
    },
    "language_info": {
      "name": "python"
    }
  },
  "cells": [
    {
      "cell_type": "markdown",
      "metadata": {
        "id": "view-in-github",
        "colab_type": "text"
      },
      "source": [
        "<a href=\"https://colab.research.google.com/github/Collqin/Archivos-Rentas/blob/main/Untitled1.ipynb\" target=\"_parent\"><img src=\"https://colab.research.google.com/assets/colab-badge.svg\" alt=\"Open In Colab\"/></a>"
      ]
    },
    {
      "cell_type": "markdown",
      "source": [
        "# VAN Y TIR\n",
        "\n",
        "\n",
        "*   VAN = NVP\n",
        "*   TIR = IRR\n",
        "\n"
      ],
      "metadata": {
        "id": "VpedfRpdy8em"
      }
    },
    {
      "cell_type": "code",
      "execution_count": null,
      "metadata": {
        "colab": {
          "base_uri": "https://localhost:8080/"
        },
        "id": "gzBY6JVxyvlz",
        "outputId": "63db98c0-2369-4db6-ef14-fe44c73f4473"
      },
      "outputs": [
        {
          "output_type": "stream",
          "name": "stdout",
          "text": [
            "Collecting numpy-financial\n",
            "  Downloading numpy_financial-1.0.0-py3-none-any.whl (14 kB)\n",
            "Requirement already satisfied: numpy>=1.15 in /usr/local/lib/python3.7/dist-packages (from numpy-financial) (1.21.5)\n",
            "Installing collected packages: numpy-financial\n",
            "Successfully installed numpy-financial-1.0.0\n"
          ]
        }
      ],
      "source": [
        "pip install numpy-financial"
      ]
    },
    {
      "cell_type": "code",
      "source": [
        "import numpy_financial as npf\n",
        "\n",
        "cash_flows = [-600_000, 100_000, 150_000, 200_000, 250_000, 300_000]\n",
        "discount_rate = 0.1\n",
        "\n",
        "van = npf.npv(discount_rate, cash_flows)\n",
        "print(f\"Net Present Value ({discount_rate: .2%}) = {van:,.2f} €\")\n"
      ],
      "metadata": {
        "colab": {
          "base_uri": "https://localhost:8080/"
        },
        "id": "x0zhKTPM3qOy",
        "outputId": "5e58dc0b-dc44-43c8-c11b-749ab1c7744f"
      },
      "execution_count": null,
      "outputs": [
        {
          "output_type": "stream",
          "name": "stdout",
          "text": [
            "Net Present Value ( 10.00%) = 122,168.75 €\n"
          ]
        }
      ]
    },
    {
      "cell_type": "code",
      "source": [
        "tir = npf.irr(cash_flows)\n",
        "print(f\"Internal Rate of Return: {tir:.2%}\")"
      ],
      "metadata": {
        "colab": {
          "base_uri": "https://localhost:8080/"
        },
        "id": "m9DKXlBZ4taQ",
        "outputId": "a01784cb-9804-4c38-b79b-a56675056d0a"
      },
      "execution_count": null,
      "outputs": [
        {
          "output_type": "stream",
          "name": "stdout",
          "text": [
            "Internal Rate of Return: 16.40%\n"
          ]
        }
      ]
    },
    {
      "cell_type": "code",
      "source": [
        "initialInvestment = cash_flows[0]     #Guardamos en una variable el desembolso inicial\n",
        "cash_flows[0] = 0                     #En la lista de cash flows hacemos cero el desembolso\n",
        "van = initialInvestment + npf.npv(discount_rate, cash_flows)\n",
        "print(van)                            #Obtenemos el van esperado, ahora sin formato"
      ],
      "metadata": {
        "colab": {
          "base_uri": "https://localhost:8080/"
        },
        "id": "TP325y01438l",
        "outputId": "8a143d6f-4976-45ba-d6c7-fb2ee1720707"
      },
      "execution_count": null,
      "outputs": [
        {
          "output_type": "stream",
          "name": "stdout",
          "text": [
            "122168.75399718084\n"
          ]
        }
      ]
    },
    {
      "cell_type": "markdown",
      "source": [
        "## Programando el VAN\n",
        "\n",
        "\n",
        "*   Valor Actual Neto\n",
        "*   $A$ = Desembolso inicial\n",
        "*   $Q_t$ = Flujos de caja desde $t = 1$ hasta $t = n$\n",
        "*   $k$ = tasa de descuento\n",
        "\n",
        "$$\n",
        "VAN = A + \\sum_{t=1}^n \\frac{Q_t}{(1 + k)^t}\n",
        "$$"
      ],
      "metadata": {
        "id": "OOR2Olbf5VAl"
      }
    },
    {
      "cell_type": "code",
      "source": [
        "def van(tasa, flujos):\n",
        "  total = 0\n",
        "  for i, flujo in enumerate(flujos):\n",
        "    total += flujo / (1 + tasa)**(i)\n",
        "  return total\n",
        "\n",
        "tasa = 0.1\n",
        "flujos = [-600_000, 100_000, 150_000, 200_000, 250_000, 300_000]\n",
        "print(f\"VAN = {van(tasa, flujos):,.2f} €\")"
      ],
      "metadata": {
        "colab": {
          "base_uri": "https://localhost:8080/"
        },
        "id": "LHtHJpkP57xI",
        "outputId": "1144d609-d162-4c87-a87f-425738ebb73b"
      },
      "execution_count": null,
      "outputs": [
        {
          "output_type": "stream",
          "name": "stdout",
          "text": [
            "VAN = 122,168.75 €\n"
          ]
        }
      ]
    },
    {
      "cell_type": "markdown",
      "source": [
        "## Función Pago (pmt)\n",
        "\n",
        "\n",
        "* npf.pmt(rate, nper, pv, fv, when = 'end')\n",
        "*   fv es optativo, por defecto es 0\n",
        "*   when es operativo, por defecto es 'end', pagos al final del periodo, pospagable\n",
        "*   Calcular el pago mensual periódico necesario para amortizar un préstamo de 350.000€, a 20 años, al 6% TIN (Tipo de interés nominal)\n",
        "*   con Excel: = PAGO(6%/12;20*12;-350.000)"
      ],
      "metadata": {
        "id": "co2snhCt6amC"
      }
    },
    {
      "cell_type": "code",
      "source": [
        "import numpy_financial as npf\n",
        "\n",
        "pago = npf.pmt(0.06/12, 20*12, 350_000)\n",
        "\n",
        "# Aquí fv = 0\n",
        "print(f\"Pago mensual: {-pago:,.2f} €\")"
      ],
      "metadata": {
        "colab": {
          "base_uri": "https://localhost:8080/"
        },
        "id": "pAJ75XG17IUn",
        "outputId": "8c5f2349-8b0d-4af5-a427-3ae70c801e98"
      },
      "execution_count": null,
      "outputs": [
        {
          "output_type": "stream",
          "name": "stdout",
          "text": [
            "Pago mensual: 2,507.51 €\n"
          ]
        }
      ]
    }
  ]
}